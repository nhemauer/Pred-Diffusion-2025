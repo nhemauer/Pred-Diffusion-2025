{
 "cells": [
  {
   "cell_type": "markdown",
   "id": "9b971567",
   "metadata": {},
   "source": [
    "Original Replication Script for Hemauer, Saunders, and Desmarais\n",
    "\n",
    "Note: This file does not include any gridsearch or hyperparameter tuning. This is just a basic inference replication script.\n",
    "\n",
    "Last updated: 06/02/2025"
   ]
  },
  {
   "cell_type": "code",
   "execution_count": null,
   "id": "5a3465d9",
   "metadata": {},
   "outputs": [
    {
     "name": "stdout",
     "output_type": "stream",
     "text": [
      "Optimization terminated successfully.\n",
      "         Current function value: 0.181244\n",
      "         Iterations 8\n",
      "Logistic Regression took 0.09 seconds\n",
      "                Coef.  Std.Err.          z         P>|z|    [0.025    0.975]\n",
      "const       -4.932003  0.379749 -12.987549  1.439637e-38 -5.676296 -4.187709\n",
      "srcs_decay   8.526663  0.438523  19.444071  3.271493e-84  7.667175  9.386151\n",
      "nbrs_lag     0.392840  0.022265  17.643892  1.133760e-69  0.349202  0.436479\n",
      "rpcpinc      0.573760  0.074898   7.660526  1.851727e-14  0.426962  0.720558\n",
      "totpop       0.090543  0.028298   3.199597  1.376197e-03  0.035080  0.146007\n",
      "legp_squire -1.088974  0.687671  -1.583569  1.132918e-01 -2.436784  0.258836\n",
      "citi6010     0.009835  0.003520   2.793907  5.207549e-03  0.002936  0.016734\n",
      "unif_rep    -0.020446  0.076089  -0.268708  7.881541e-01 -0.169578  0.128687\n",
      "unif_dem     0.062910  0.066440   0.946871  3.437047e-01 -0.067310  0.193131\n",
      "time        -0.135390  0.017594  -7.695380  1.410739e-14 -0.169872 -0.100907\n",
      "time_sq      0.007239  0.001445   5.009828  5.447877e-07  0.004407  0.010072\n",
      "time_cube   -0.000128  0.000031  -4.132885  3.582384e-05 -0.000188 -0.000067\n"
     ]
    }
   ],
   "source": [
    "### Boehmke et al. 2017 Replication\n",
    "# Coef estimates are exact, constant estimate is not.\n",
    "\n",
    "import statsmodels.api as sm\n",
    "import pandas as pd\n",
    "import random\n",
    "import time\n",
    "import warnings\n",
    "\n",
    "warnings.filterwarnings('ignore')\n",
    "\n",
    "random.seed(1337)\n",
    "\n",
    "# Data\n",
    "boehmke_2017_full = pd.read_stata(r\"boehmke_analysis\\replication_data\\boehmke2017.dta\")\n",
    "\n",
    "covariates = [\"srcs_decay\",\"nbrs_lag\",\"rpcpinc\",\"totpop\",\"legp_squire\",\n",
    "                \"citi6010\",\"unif_rep\",\"unif_dem\",\"time\",\"time_sq\",\"time_cube\"]\n",
    "boehmke_2017 = boehmke_2017_full[[\"state\", \"year\", \"statepol\", \"adopt\"] + covariates].dropna()\n",
    "\n",
    "# Define X and y\n",
    "X = boehmke_2017.drop(columns = ['adopt', 'year', 'statepol']).copy()\n",
    "X = pd.get_dummies(X, columns = ['state'], drop_first = True)  # drop_first avoids perfect multicollinearity\n",
    "X = sm.add_constant(X)\n",
    "y = boehmke_2017['adopt']\n",
    "\n",
    "# Fit Logistic Regression model\n",
    "start_time = time.time()\n",
    "logistic = sm.Logit(y.astype(float), X.astype(float)).fit(cov_type = \"cluster\", cov_kwds = {'groups': boehmke_2017['statepol']})\n",
    "end_time = time.time()\n",
    "\n",
    "print(f\"Logistic Regression took {end_time - start_time:.2f} seconds\")\n",
    "\n",
    "# Extract summary table\n",
    "summary_df = logistic.summary2().tables[1]\n",
    "\n",
    "# Filter out state dummy variables\n",
    "summary_filtered = summary_df[~summary_df.index.str.startswith(\"state_\")]\n",
    "\n",
    "print(summary_filtered)"
   ]
  },
  {
   "cell_type": "code",
   "execution_count": null,
   "id": "b6ded6e6",
   "metadata": {},
   "outputs": [],
   "source": [
    "### Boushey 2016 Replication\n",
    "\n",
    "random.seed(1337)\n",
    "\n",
    "# Data\n",
    "boushey_2016_full = pd.read_stata(r\"boushey_analysis/replication_data/boushey2016.dta\")\n",
    "\n",
    "# Covariates\n",
    "covariates = [\"policycongruent\",\"gub_election\",\"elect2\", \"hvd_4yr\", \"fedcrime\",\n",
    "                \"leg_dem_per_2pty\",\"dem_governor\",\"insession\",\"propneighpol\",\n",
    "                \"citidist\",\"squire_prof86\",\"citi6008\",\"crimespendpc\",\"crimespendpcsq\",\n",
    "                \"violentthousand\",\"pctwhite\",\"stateincpercap\",\"logpop\",\"counter\",\"counter2\",\"counter3\"]\n",
    "boushey_2016 = boushey_2016_full.dropna()"
   ]
  }
 ],
 "metadata": {
  "kernelspec": {
   "display_name": "Python 3",
   "language": "python",
   "name": "python3"
  },
  "language_info": {
   "codemirror_mode": {
    "name": "ipython",
    "version": 3
   },
   "file_extension": ".py",
   "mimetype": "text/x-python",
   "name": "python",
   "nbconvert_exporter": "python",
   "pygments_lexer": "ipython3",
   "version": "3.13.3"
  }
 },
 "nbformat": 4,
 "nbformat_minor": 5
}
